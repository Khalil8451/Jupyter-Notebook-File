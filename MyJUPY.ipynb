{
 "cells": [
  {
   "cell_type": "markdown",
   "id": "6c5681f6-1f00-402a-aba1-94707d9d6fd3",
   "metadata": {
    "tags": []
   },
   "source": [
    "# __My Jupyter Notebook on IBM Watson Studio__"
   ]
  },
  {
   "cell_type": "markdown",
   "id": "22667e45-5319-4abf-bc44-d0c15d1c85ef",
   "metadata": {
    "tags": []
   },
   "source": [
    "__Mohamed Khalil Guesmi__"
   ]
  },
  {
   "cell_type": "markdown",
   "id": "36065475-f23e-482c-8da4-bedd76758e3a",
   "metadata": {},
   "source": [
    "_Hi my name is Mohamed Khalil Guesmi, I am interested in data science because when working with data, you can play with knowledge which means you can make domain-oriented experiments as well._"
   ]
  },
  {
   "cell_type": "markdown",
   "id": "d311ec37-2954-4cb2-86ce-cf5e20aa41f4",
   "metadata": {},
   "source": [
    "### __The following code prints the word \"Data Science\" 5 times.__"
   ]
  },
  {
   "cell_type": "code",
   "execution_count": 4,
   "id": "c00f2643-2914-4d31-a504-873000b5e7fa",
   "metadata": {},
   "outputs": [
    {
     "name": "stdout",
     "output_type": "stream",
     "text": [
      "Data ScienceData ScienceData ScienceData ScienceData Science\n"
     ]
    }
   ],
   "source": [
    "string  = \"Data Science\"\n",
    "print(string * 5)"
   ]
  },
  {
   "cell_type": "markdown",
   "id": "a559fc0c-0642-4634-a523-d264e0e52907",
   "metadata": {},
   "source": [
    "* SQL"
   ]
  },
  {
   "cell_type": "markdown",
   "id": "d71af8d5-473a-4b7e-a996-55a83c3642bd",
   "metadata": {},
   "source": [
    "* R"
   ]
  },
  {
   "cell_type": "markdown",
   "id": "9239ed41-6bc3-4967-bf69-8ad375d8c06b",
   "metadata": {},
   "source": [
    "* Python"
   ]
  },
  {
   "cell_type": "markdown",
   "id": "fb35660a-4f8c-4eaf-a3a5-a2faff64b29d",
   "metadata": {},
   "source": [
    "| Name | Job | Age |\n",
    "| --- | --- | --- |\n",
    "| Gustavo Lima| Football Player | 21 |"
   ]
  },
  {
   "cell_type": "markdown",
   "id": "2f53b259-63d2-43a6-87df-835f1d7a6d53",
   "metadata": {},
   "source": [
    "www.ibm.com"
   ]
  }
 ],
 "metadata": {
  "kernelspec": {
   "display_name": "Python 3 (ipykernel)",
   "language": "python",
   "name": "python3"
  },
  "language_info": {
   "codemirror_mode": {
    "name": "ipython",
    "version": 3
   },
   "file_extension": ".py",
   "mimetype": "text/x-python",
   "name": "python",
   "nbconvert_exporter": "python",
   "pygments_lexer": "ipython3",
   "version": "3.9.6"
  }
 },
 "nbformat": 4,
 "nbformat_minor": 5
}
